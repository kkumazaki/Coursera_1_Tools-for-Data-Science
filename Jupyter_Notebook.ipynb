{
 "cells": [
  {
   "cell_type": "markdown",
   "metadata": {},
   "source": [
    "<center>\n",
    "    <img src=\"https://s3-api.us-geo.objectstorage.softlayer.net/cf-courses-data/CognitiveClass/Logos/organization_logo/organization_logo.png\" width=\"300\" alt=\"cognitiveclass.ai logo\"  />\n",
    "</center>\n"
   ]
  },
  {
   "cell_type": "markdown",
   "metadata": {},
   "source": [
    "#### Add your code below following the instructions given in the course\n"
   ]
  },
  {
   "cell_type": "markdown",
   "metadata": {},
   "source": [
    "# My Jupyter Notebook on IBM Watson Studio"
   ]
  },
  {
   "cell_type": "markdown",
   "metadata": {},
   "source": [
    "**<u>Kenta Kumazaki</u>, Basic Integration Testing, Woven Core**"
   ]
  },
  {
   "cell_type": "markdown",
   "metadata": {},
   "source": [
    "*I am interested in data science because my team is in charge of data analysis of test vehicles.*"
   ]
  },
  {
   "cell_type": "markdown",
   "metadata": {},
   "source": [
    "### My code below calculates sum of 2 values."
   ]
  },
  {
   "cell_type": "code",
   "execution_count": 3,
   "metadata": {},
   "outputs": [
    {
     "name": "stdout",
     "output_type": "stream",
     "text": [
      "Please input 2 values.\n"
     ]
    },
    {
     "name": "stdin",
     "output_type": "stream",
     "text": [
      " 1 5\n"
     ]
    },
    {
     "name": "stdout",
     "output_type": "stream",
     "text": [
      "Sum of your 2 values are 6\n"
     ]
    }
   ],
   "source": [
    "print(\"Please input 2 values.\")\n",
    "\n",
    "a, b = list(map(int, input().split()))\n",
    "\n",
    "c = a + b\n",
    "print(\"Sum of your 2 values are \" + str(c))"
   ]
  },
  {
   "cell_type": "markdown",
   "metadata": {},
   "source": [
    "(1) table\n",
    "|item|result|\n",
    "|--|--|\n",
    "|test1|good|\n",
    "|test2|bad|\n",
    "|test3|good|\n",
    "\n",
    "\n",
    "(2) hyperlink\n",
    "[IBM Watson](https://www.ibm.com/jp-ja/watson?utm_content=SRCWW&p1=Search&p4=43700052787778558&p5=e&gclid=Cj0KCQjwteOaBhDuARIsADBqRegU1Sg63AqSiUeb6WjgHhbh6Xymy8qx-DLusbEYowIMtodpHWL-6HAaAo8gEALw_wcB&gclsrc=aw.ds)\n",
    "\n",
    "(3)　syntax highlighting\n",
    ">|python|\n",
    "N = 10\n",
    "for i in range(N):\n",
    "    print(i)\n",
    "||<"
   ]
  },
  {
   "cell_type": "code",
   "execution_count": null,
   "metadata": {},
   "outputs": [],
   "source": []
  }
 ],
 "metadata": {
  "kernelspec": {
   "display_name": "Python",
   "language": "python",
   "name": "conda-env-python-py"
  },
  "language_info": {
   "codemirror_mode": {
    "name": "ipython",
    "version": 3
   },
   "file_extension": ".py",
   "mimetype": "text/x-python",
   "name": "python",
   "nbconvert_exporter": "python",
   "pygments_lexer": "ipython3",
   "version": "3.7.12"
  }
 },
 "nbformat": 4,
 "nbformat_minor": 4
}
